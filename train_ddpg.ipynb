{
  "nbformat": 4,
  "nbformat_minor": 0,
  "metadata": {
    "colab": {
      "provenance": [],
      "gpuType": "T4",
      "authorship_tag": "ABX9TyOCYN38/W7uv9A8UbMpxZur"
    },
    "kernelspec": {
      "name": "python3",
      "display_name": "Python 3"
    },
    "language_info": {
      "name": "python"
    }
  },
  "cells": [
    {
      "cell_type": "code",
      "execution_count": 1,
      "metadata": {
        "colab": {
          "base_uri": "https://localhost:8080/"
        },
        "id": "vH6sWp67GlMF",
        "outputId": "83333229-5941-434f-f0f2-8c3c1c0fcc85"
      },
      "outputs": [
        {
          "output_type": "stream",
          "name": "stdout",
          "text": [
            "Cloning into 'RL_mitochon_detection'...\n",
            "remote: Enumerating objects: 124, done.\u001b[K\n",
            "remote: Counting objects: 100% (62/62), done.\u001b[K\n",
            "remote: Compressing objects: 100% (40/40), done.\u001b[K\n",
            "remote: Total 124 (delta 22), reused 56 (delta 19), pack-reused 62 (from 2)\u001b[K\n",
            "Receiving objects: 100% (124/124), 225.38 MiB | 21.64 MiB/s, done.\n",
            "Resolving deltas: 100% (33/33), done.\n",
            "Updating files: 100% (36/36), done.\n"
          ]
        }
      ],
      "source": [
        "!git clone --branch implement_ddpg --single-branch https://github.com/pskvins/RL_mitochon_detection"
      ]
    },
    {
      "cell_type": "code",
      "source": [
        "%cd RL_mitochon_detection"
      ],
      "metadata": {
        "colab": {
          "base_uri": "https://localhost:8080/"
        },
        "id": "3DJYpw7iGmIp",
        "outputId": "e5bd4e40-7d49-4ea1-a6f0-c336d1b29292"
      },
      "execution_count": 2,
      "outputs": [
        {
          "output_type": "stream",
          "name": "stdout",
          "text": [
            "/content/RL_mitochon_detection\n"
          ]
        }
      ]
    },
    {
      "cell_type": "code",
      "source": [
        "!python src/data/prepare_dataset.py"
      ],
      "metadata": {
        "colab": {
          "base_uri": "https://localhost:8080/"
        },
        "id": "yHnH5KoIGrVn",
        "outputId": "8e8f545a-0542-4057-fa65-7c3dce78b06a"
      },
      "execution_count": 4,
      "outputs": [
        {
          "output_type": "stream",
          "name": "stdout",
          "text": [
            "Unzipping: /content/RL_mitochon_detection/data/datasets.zip\n",
            "Unzip completed: /content/RL_mitochon_detection/datasets\n"
          ]
        }
      ]
    },
    {
      "cell_type": "code",
      "source": [
        "!pip install ultralytics"
      ],
      "metadata": {
        "id": "H7_Uv2dxIA1v"
      },
      "execution_count": null,
      "outputs": []
    },
    {
      "cell_type": "code",
      "source": [
        "!git pull origin implement_ddpg"
      ],
      "metadata": {
        "colab": {
          "base_uri": "https://localhost:8080/"
        },
        "id": "Uy24xCKrwAY0",
        "outputId": "5b4f88b6-0fe8-486a-e6c3-b8e9ed389d42"
      },
      "execution_count": 8,
      "outputs": [
        {
          "output_type": "stream",
          "name": "stdout",
          "text": [
            "remote: Enumerating objects: 4, done.\u001b[K\n",
            "remote: Counting objects:  25% (1/4)\u001b[K\rremote: Counting objects:  50% (2/4)\u001b[K\rremote: Counting objects:  75% (3/4)\u001b[K\rremote: Counting objects: 100% (4/4)\u001b[K\rremote: Counting objects: 100% (4/4), done.\u001b[K\n",
            "remote: Compressing objects:  33% (1/3)\u001b[K\rremote: Compressing objects:  66% (2/3)\u001b[K\rremote: Compressing objects: 100% (3/3)\u001b[K\rremote: Compressing objects: 100% (3/3), done.\u001b[K\n",
            "remote: Total 3 (delta 0), reused 0 (delta 0), pack-reused 0 (from 0)\u001b[K\n",
            "Unpacking objects:  33% (1/3)\rUnpacking objects:  66% (2/3)\rUnpacking objects: 100% (3/3)\rUnpacking objects: 100% (3/3), 4.85 KiB | 2.43 MiB/s, done.\n",
            "From https://github.com/pskvins/RL_mitochon_detection\n",
            " * branch            implement_ddpg -> FETCH_HEAD\n",
            "   de5173d..60e7598  implement_ddpg -> origin/implement_ddpg\n",
            "Updating de5173d..60e7598\n",
            "Fast-forward\n",
            " train_ddpg.ipynb | 374 \u001b[32m+++++++++++++++++++++++++++++++++++++++++++++++++++++++\u001b[m\n",
            " 1 file changed, 374 insertions(+)\n",
            " create mode 100644 train_ddpg.ipynb\n"
          ]
        }
      ]
    },
    {
      "cell_type": "code",
      "source": [
        "!python -m src.train_ddpg --config src/ddpg_model/configs/config.yaml"
      ],
      "metadata": {
        "colab": {
          "base_uri": "https://localhost:8080/"
        },
        "id": "W3T6PhRQG2J6",
        "outputId": "e2a827ec-a2fc-472a-8bc4-7e0704178afb"
      },
      "execution_count": 9,
      "outputs": [
        {
          "output_type": "stream",
          "name": "stdout",
          "text": [
            "WARNING: All log messages before absl::InitializeLog() is called are written to STDERR\n",
            "E0000 00:00:1747376429.057070    6362 cuda_dnn.cc:8310] Unable to register cuDNN factory: Attempting to register factory for plugin cuDNN when one has already been registered\n",
            "E0000 00:00:1747376429.064371    6362 cuda_blas.cc:1418] Unable to register cuBLAS factory: Attempting to register factory for plugin cuBLAS when one has already been registered\n",
            "/usr/local/lib/python3.11/dist-packages/torchvision/models/_utils.py:208: UserWarning: The parameter 'pretrained' is deprecated since 0.13 and may be removed in the future, please use 'weights' instead.\n",
            "  warnings.warn(\n",
            "/usr/local/lib/python3.11/dist-packages/torchvision/models/_utils.py:223: UserWarning: Arguments other than a weight enum or `None` for 'weights' are deprecated since 0.13 and may be removed in the future. The current behavior is equivalent to passing `weights=ResNet18_Weights.IMAGENET1K_V1`. You can also use `weights=ResNet18_Weights.DEFAULT` to get the most up-to-date weights.\n",
            "  warnings.warn(msg)\n",
            "[Epoch 1/100]\n",
            "  0% 0/16 [00:00<?, ?it/s]/content/RL_mitochon_detection/src/env/utils.py:36: RuntimeWarning: overflow encountered in scalar multiply\n",
            "  area2 = w2 * h2\n",
            "/content/RL_mitochon_detection/src/train_ddpg.py:118: RuntimeWarning: overflow encountered in scalar multiply\n",
            "  [x * img_w, y * img_h, w * img_w, h * img_h]\n",
            "/content/RL_mitochon_detection/src/env/utils.py:21: RuntimeWarning: invalid value encountered in scalar subtract\n",
            "  x2_min, y2_min = x2 - w2 / 2, y2 - h2 / 2\n",
            " 25% 4/16 [00:03<00:09,  1.26it/s]/content/RL_mitochon_detection/src/env/utils.py:22: RuntimeWarning: overflow encountered in scalar add\n",
            "  x2_max, y2_max = x2 + w2 / 2, y2 + h2 / 2\n",
            "100% 16/16 [00:16<00:00,  1.01s/it]\n",
            "[Epoch 1] Avg Reward per box: 0.1205\n",
            "[Epoch 2/100]\n",
            " 69% 11/16 [00:50<00:23,  4.61s/it]\n",
            "Traceback (most recent call last):\n",
            "  File \"<frozen runpy>\", line 198, in _run_module_as_main\n",
            "  File \"<frozen runpy>\", line 88, in _run_code\n",
            "  File \"/content/RL_mitochon_detection/src/train_ddpg.py\", line 137, in <module>\n",
            "    next_state, reward, done, _ = env.step(action_np)\n",
            "                                  ^^^^^^^^^^^^^^^^^^^\n",
            "  File \"/content/RL_mitochon_detection/src/env/box_env.py\", line 63, in step\n",
            "    return self._get_state(), iou, done, {}\n",
            "           ^^^^^^^^^^^^^^^^^\n",
            "  File \"/content/RL_mitochon_detection/src/env/box_env.py\", line 70, in _get_state\n",
            "    cur_patch = self._crop_box(self.cur_box)\n",
            "                ^^^^^^^^^^^^^^^^^^^^^^^^^^^^\n",
            "  File \"/content/RL_mitochon_detection/src/env/box_env.py\", line 85, in _crop_box\n",
            "    return self.image.crop((x0, y0, x1, y1)).resize((64, 64))\n",
            "           ^^^^^^^^^^^^^^^^^^^^^^^^^^^^^^^^^^^^^^^^^^^^^^^^^^\n",
            "  File \"/usr/local/lib/python3.11/dist-packages/PIL/Image.py\", line 2316, in resize\n",
            "    return self._new(self.im.resize(size, resample, box))\n",
            "                     ^^^^^^^^^^^^^^^^^^^^^^^^^^^^^^^^^^^\n",
            "KeyboardInterrupt\n"
          ]
        }
      ]
    },
    {
      "cell_type": "code",
      "source": [],
      "metadata": {
        "id": "I2LX4X5Atn_Z"
      },
      "execution_count": 6,
      "outputs": []
    }
  ]
}